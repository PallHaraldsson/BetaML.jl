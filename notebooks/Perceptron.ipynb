{
 "cells": [
  {
   "cell_type": "markdown",
   "metadata": {},
   "source": [
    "# Example of using the Kernel Perceptron for nonlinear classification"
   ]
  },
  {
   "cell_type": "code",
   "execution_count": 18,
   "metadata": {},
   "outputs": [],
   "source": [
    "# Load Modules\n",
    "\n",
    "using Bmlt.Perceptron, Statistics, Random\n",
    "Random.seed!(123);"
   ]
  },
  {
   "cell_type": "code",
   "execution_count": 14,
   "metadata": {},
   "outputs": [
    {
     "data": {
      "text/plain": [
       "50-element Array{Int64,1}:\n",
       " -1\n",
       " -1\n",
       "  1\n",
       "  1\n",
       "  1\n",
       "  1\n",
       " -1\n",
       "  1\n",
       " -1\n",
       "  1\n",
       "  1\n",
       " -1\n",
       "  1\n",
       "  ⋮\n",
       "  1\n",
       " -1\n",
       " -1\n",
       " -1\n",
       "  1\n",
       "  1\n",
       " -1\n",
       "  1\n",
       " -1\n",
       " -1\n",
       " -1\n",
       " -1"
      ]
     },
     "execution_count": 14,
     "metadata": {},
     "output_type": "execute_result"
    }
   ],
   "source": [
    "xtrain = rand(300,3)\n",
    "ytt    = [(0.5*x[1]+0.2*x[2]^2+0.3*x[3]+1) for (i,x) in enumerate(eachrow(xtrain))]\n",
    "ytrain = [i > median(ytt) ? 1 : -1 for i in ytt]\n",
    "xtest  = rand(50,3)\n",
    "ytt2    = [(0.5*x[1]+0.2*x[2]^2+0.3*x[3]+1) for (i,x) in enumerate(eachrow(xtest))]\n",
    "ytest = [i > median(ytt) ? 1 : -1 for i in ytt2]\n"
   ]
  },
  {
   "cell_type": "code",
   "execution_count": 24,
   "metadata": {},
   "outputs": [
    {
     "name": "stdout",
     "output_type": "stream",
     "text": [
      "search: \u001b[0m\u001b[1mk\u001b[22m\u001b[0m\u001b[1me\u001b[22m\u001b[0m\u001b[1mr\u001b[22m\u001b[0m\u001b[1mn\u001b[22m\u001b[0m\u001b[1me\u001b[22m\u001b[0m\u001b[1ml\u001b[22m\u001b[0m\u001b[1mP\u001b[22m\u001b[0m\u001b[1me\u001b[22m\u001b[0m\u001b[1mr\u001b[22m\u001b[0m\u001b[1mc\u001b[22m\u001b[0m\u001b[1me\u001b[22m\u001b[0m\u001b[1mp\u001b[22m\u001b[0m\u001b[1mt\u001b[22m\u001b[0m\u001b[1mr\u001b[22m\u001b[0m\u001b[1mo\u001b[22m\u001b[0m\u001b[1mn\u001b[22m\n",
      "\n"
     ]
    }
   ],
   "source": [
    "?kernelPerceptron"
   ]
  },
  {
   "cell_type": "code",
   "execution_count": 26,
   "metadata": {},
   "outputs": [
    {
     "name": "stdout",
     "output_type": "stream",
     "text": [
      "***\n",
      "*** Training kernel perceptron for maximum 1000 iterations. Random shuffle: true\n",
      "Avg. error after iteration 1 : 0.10666666666666667\n"
     ]
    },
    {
     "name": "stderr",
     "output_type": "stream",
     "text": [
      "\u001b[32mTraining Kernel Perceptron...  4%|█                     |  ETA: 0:01:59\u001b[39m"
     ]
    },
    {
     "name": "stdout",
     "output_type": "stream",
     "text": [
      "Avg. error after iteration 50 : 0.04666666666666667\n"
     ]
    },
    {
     "name": "stderr",
     "output_type": "stream",
     "text": [
      "\u001b[32mTraining Kernel Perceptron...100%|██████████████████████| Time: 0:00:09\u001b[39m\n"
     ]
    },
    {
     "name": "stdout",
     "output_type": "stream",
     "text": [
      "*** Avg. error after epoch 76 : 0.0 (all elements of the set has been correctly classified\n"
     ]
    },
    {
     "data": {
      "text/plain": [
       "(x = [0.4730168160953825 0.18656529636544472 0.42288879607108876; 0.57061318926682 0.8119196824228172 0.24253173556103458; … ; 0.9519169935552045 0.37456203986918735 0.42934264038892644; 0.031830967983953684 0.3059693626219031 0.42941441278892944], y = [-1, 1, -1, -1, -1, 1, 1, -1, 1, -1  …  -1, -1, -1, 1, -1, 1, -1, -1, 1, -1], α = [0.0, 7.0, 0.0, 0.0, 0.0, 0.0, 0.0, 50.0, 0.0, 0.0  …  0.0, 0.0, 1.0, 0.0, 2.0, 1.0, 0.0, 0.0, 0.0, 0.0], errors = 0, besterrors = 0, iterations = 76, separated = true)"
      ]
     },
     "execution_count": 26,
     "metadata": {},
     "output_type": "execute_result"
    }
   ],
   "source": [
    "out   = kernelPerceptron(xtrain, ytrain, K=radialKernel,rShuffle=true,nMsgs=20)"
   ]
  },
  {
   "cell_type": "code",
   "execution_count": 27,
   "metadata": {},
   "outputs": [
    {
     "data": {
      "text/plain": [
       "50-element Array{Int64,1}:\n",
       " -1\n",
       " -1\n",
       "  1\n",
       "  1\n",
       "  1\n",
       "  1\n",
       " -1\n",
       "  1\n",
       " -1\n",
       "  1\n",
       "  1\n",
       " -1\n",
       "  1\n",
       "  ⋮\n",
       "  1\n",
       " -1\n",
       " -1\n",
       " -1\n",
       "  1\n",
       "  1\n",
       " -1\n",
       "  1\n",
       " -1\n",
       " -1\n",
       " -1\n",
       " -1"
      ]
     },
     "execution_count": 27,
     "metadata": {},
     "output_type": "execute_result"
    }
   ],
   "source": [
    "ŷtest = Perceptron.predict(xtest,out.x,out.y,out.α, K=radialKernel)"
   ]
  },
  {
   "cell_type": "code",
   "execution_count": 28,
   "metadata": {},
   "outputs": [
    {
     "data": {
      "text/plain": [
       "0.04"
      ]
     },
     "execution_count": 28,
     "metadata": {},
     "output_type": "execute_result"
    }
   ],
   "source": [
    "ϵ = error(ytest, ŷtest)"
   ]
  },
  {
   "cell_type": "code",
   "execution_count": null,
   "metadata": {},
   "outputs": [],
   "source": []
  }
 ],
 "metadata": {
  "kernelspec": {
   "display_name": "Julia 1.4.1",
   "language": "julia",
   "name": "julia-1.4"
  },
  "language_info": {
   "file_extension": ".jl",
   "mimetype": "application/julia",
   "name": "julia",
   "version": "1.4.1"
  }
 },
 "nbformat": 4,
 "nbformat_minor": 4
}
