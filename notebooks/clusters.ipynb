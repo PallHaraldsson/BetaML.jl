{
 "cells": [
  {
   "cell_type": "code",
   "execution_count": 21,
   "metadata": {},
   "outputs": [],
   "source": [
    "using LinearAlgebra\n",
    "using Random\n",
    "using Distributions"
   ]
  },
  {
   "cell_type": "code",
   "execution_count": 20,
   "metadata": {},
   "outputs": [
    {
     "data": {
      "text/plain": [
       "9×2 Array{Float64,2}:\n",
       " 1.0  10.5\n",
       " 1.5  10.8\n",
       " 1.8   8.0\n",
       " 1.7  15.0\n",
       " 3.2  40.0\n",
       " 3.6  32.0\n",
       " 3.3  38.0\n",
       " 5.1  -2.3\n",
       " 5.2  -2.4"
      ]
     },
     "execution_count": 20,
     "metadata": {},
     "output_type": "execute_result"
    }
   ],
   "source": [
    "K = 3\n",
    "X = [1 10.5;1.5 10.8; 1.8 8; 1.7 15; 3.2 40; 3.6 32; 3.3 38; 5.1 -2.3; 5.2 -2.4]"
   ]
  },
  {
   "cell_type": "code",
   "execution_count": 2,
   "metadata": {},
   "outputs": [
    {
     "data": {
      "text/plain": [
       "initRepresentatives"
      ]
     },
     "execution_count": 2,
     "metadata": {},
     "output_type": "execute_result"
    }
   ],
   "source": [
    "\"\"\"\n",
    "  initRepresentatives(X,K;initStrategy,Z₀))\n",
    "\n",
    "Initialisate the representatives for a K-Mean or K-Medoids algorithm\n",
    "\n",
    "# Parameters:\n",
    "* `X`: a (N x D) data to clusterise\n",
    "* `K`: Number of cluster wonted\n",
    "* `initStrategy`: Wheter to select the initial representative vectors:\n",
    "  * `random`: randomly in the X space\n",
    "  * `grid`: using a grid approach [default]\n",
    "  * `shuffle`: selecting randomly within the available points\n",
    "  * `given`: using a provided set of initial representatives provided in the `Z₀` parameter\n",
    " * `Z₀`: Provided (K x D) matrix of initial representatives (used only together with the `given` initStrategy) [default: `nothing`]\n",
    "\n",
    "# Returns:\n",
    "* A (K x D) matrix of initial representatives\n",
    "\n",
    "# Example:\n",
    "```julia\n",
    "julia> Z₀ = initRepresentatives([1 10.5;1.5 10.8; 1.8 8; 1.7 15; 3.2 40; 3.6 32; 3.6 38],2,initStrategy=\"given\",Z₀=[1.7 15; 3.6 40])\n",
    "```\n",
    "\"\"\"\n",
    "function initRepresentatives(X,K;initStrategy=\"grid\",Z₀=nothing)\n",
    "    (N,D) = size(X)\n",
    "    # Random choice of initial representative vectors (any point, not just in X!)\n",
    "    minX = minimum(X,dims=1)\n",
    "    maxX = maximum(X,dims=1)\n",
    "    Z = zeros(K,D)\n",
    "    if initStrategy == \"random\"\n",
    "        for i in 1:K\n",
    "            for j in 1:D\n",
    "                Z[i,j] = rand(Uniform(minX[j],maxX[j]))\n",
    "            end\n",
    "        end\n",
    "    elseif initStrategy == \"grid\"\n",
    "        for d in 1:D\n",
    "                Z[:,d] = collect(range(minX[d], stop=maxX[d], length=K))\n",
    "        end\n",
    "    elseif initStrategy == \"given\"\n",
    "        if isnothing(Z₀) error(\"With the `given` strategy you need to provide the initial set of representatives in the Z₀ parameter.\") end\n",
    "        for d in 1:D\n",
    "                Z = Z₀\n",
    "        end\n",
    "    elseif initStrategy == \"shuffle\"\n",
    "        for d in 1:D\n",
    "            zIdx = shuffle(1:size(X)[1])[1:K]\n",
    "            Z = X[zIdx, :]\n",
    "        end\n",
    "    else\n",
    "        error(\"initStrategy \\\"$initStrategy\\\" not implemented\")\n",
    "    end\n",
    "    return Z\n",
    "end\n"
   ]
  },
  {
   "cell_type": "code",
   "execution_count": 4,
   "metadata": {},
   "outputs": [
    {
     "data": {
      "text/plain": [
       "2×2 Array{Float64,2}:\n",
       " 1.0   8.0\n",
       " 3.6  40.0"
      ]
     },
     "execution_count": 4,
     "metadata": {},
     "output_type": "execute_result"
    }
   ],
   "source": [
    "Z₀ = initRepresentatives([1 10.5;1.5 10.8; 1.8 8; 1.7 15; 3.2 40; 3.6 32; 3.6 38],2,initStrategy=\"grid\")"
   ]
  },
  {
   "cell_type": "code",
   "execution_count": 8,
   "metadata": {},
   "outputs": [
    {
     "data": {
      "text/plain": [
       "kmeans"
      ]
     },
     "execution_count": 8,
     "metadata": {},
     "output_type": "execute_result"
    }
   ],
   "source": [
    "# Basic K-Means Algorithm (Lecture/segment 13.7 of https://www.edx.org/course/machine-learning-with-python-from-linear-models-to)\n",
    "\n",
    "\"\"\"\n",
    "  kmeans(X,K,initStrategy)\n",
    "\n",
    "Compute K-Mean algorithm to identify K clusters of X using Euclidean distance\n",
    "\n",
    "# Parameters:\n",
    "* `X`: a (N x D) data to clusterise\n",
    "* `K`: Number of cluster wonted\n",
    "* `initStrategy`: Wheter to select the initial representative vectors:\n",
    "  * `random`: randomly in the X space\n",
    "  * `grid`: using a grid approach [default]\n",
    "  * `shuffle`: selecting randomly within the available points\n",
    "  * `given`: using a provided set of initial representatives provided in the `Z₀` parameter\n",
    " * `Z₀`: Provided (K x D) matrix of initial representatives (used only together with the `given` initStrategy) [default: `nothing`]\n",
    "\n",
    "# Returns:\n",
    "* A tuple of two items, the first one being a vector of size N of ids of the clusters associated to each point and the second one the (K x D) matrix of representatives\n",
    "\n",
    "# Notes:\n",
    "* Some returned clusters could be empty\n",
    "\n",
    "# Example:\n",
    "```julia\n",
    "julia> (clIdx,Z) = kmeans([1 10.5;1.5 10.8; 1.8 8; 1.7 15; 3.2 40; 3.6 32; 3.3 38; 5.1 -2.3; 5.2 -2.4],3)\n",
    "```\n",
    "\"\"\"\n",
    "function kmeans(X,K;initStrategy=\"grid\",Z₀=nothing)\n",
    "    (N,D) = size(X)\n",
    "    # Random choice of initial representative vectors (any point, not just in X!)\n",
    "    minX = minimum(X,dims=1)\n",
    "    maxX = maximum(X,dims=1)\n",
    "    Z₀ = initRepresentatives(X,K,initStrategy=initStrategy,Z₀=Z₀)\n",
    "    Z  = Z₀\n",
    "    cIdx_prev = zeros(Int64,N)\n",
    "\n",
    "    # Looping\n",
    "    while true\n",
    "        # Determining the constituency of each cluster\n",
    "        cIdx      = zeros(Int64,N)\n",
    "        for (i,x) in enumerate(eachrow(X))\n",
    "            cost = Inf\n",
    "            for (j,z) in enumerate(eachrow(Z))\n",
    "               if (norm(x-z)^2  < cost)\n",
    "                   cost    =  norm(x-z)^2\n",
    "                   cIdx[i] = j\n",
    "               end\n",
    "            end\n",
    "        end\n",
    "\n",
    "        # Determining the new representative by each cluster\n",
    "        #for (j,z) in enumerate(eachrow(Z))\n",
    "        for j in  1:K\n",
    "            Cⱼ = X[cIdx .== j,:] # Selecting the constituency by boolean selection\n",
    "            Z[j,:] = sum(Cⱼ,dims=1) ./ size(Cⱼ)[1]\n",
    "        end\n",
    "\n",
    "        # Checking termination condition: clusters didn't move any more\n",
    "        if cIdx == cIdx_prev\n",
    "            return (cIdx,Z)\n",
    "        else\n",
    "            cIdx_prev = cIdx\n",
    "        end\n",
    "\n",
    "    end\n",
    "end"
   ]
  },
  {
   "cell_type": "code",
   "execution_count": 9,
   "metadata": {},
   "outputs": [
    {
     "data": {
      "text/plain": [
       "([2, 2, 2, 2, 3, 3, 3, 1, 1], [5.15 -2.3499999999999996; 1.5 11.075; 3.366666666666667 36.666666666666664])"
      ]
     },
     "execution_count": 9,
     "metadata": {},
     "output_type": "execute_result"
    }
   ],
   "source": [
    "(clIdx,Z) = kmeans([1 10.5;1.5 10.8; 1.8 8; 1.7 15; 3.2 40; 3.6 32; 3.3 38; 5.1 -2.3; 5.2 -2.4],3)"
   ]
  },
  {
   "cell_type": "code",
   "execution_count": 10,
   "metadata": {},
   "outputs": [
    {
     "data": {
      "text/plain": [
       "cos_distance"
      ]
     },
     "execution_count": 10,
     "metadata": {},
     "output_type": "execute_result"
    }
   ],
   "source": [
    "# Basic K-Medoids Algorithm (Lecture/segment 14.3 of https://www.edx.org/course/machine-learning-with-python-from-linear-models-to)\n",
    "\n",
    "\"\"\"Square Euclidean distance\"\"\"\n",
    "square_euclidean(x,y) = norm(x-y)^2\n",
    "\n",
    "\"\"\"Cosine distance\"\"\"\n",
    "cos_distance(x,y) = dot(x,y)/(norm(x)*norm(y))"
   ]
  },
  {
   "cell_type": "code",
   "execution_count": 11,
   "metadata": {},
   "outputs": [
    {
     "data": {
      "text/plain": [
       "kmedoids"
      ]
     },
     "execution_count": 11,
     "metadata": {},
     "output_type": "execute_result"
    }
   ],
   "source": [
    "\"\"\"\n",
    "  kmedoids(X,K;dist,initStrategy,Z₀)\n",
    "\n",
    "Compute K-Medoids algorithm to identify K clusters of X using distance definition `dist`\n",
    "\n",
    "# Parameters:\n",
    "* `X`: a (n x d) data to clusterise\n",
    "* `K`: Number of cluster wonted\n",
    "* `dist`: Function to employ as distance (must accept two vectors). Default to squared Euclidean.\n",
    "* `initStrategy`: Wheter to select the initial representative vectors:\n",
    "  * `random`: randomly in the X space\n",
    "  * `grid`: using a grid approach\n",
    "  * `shuffle`: selecting randomly within the available points [default]\n",
    "  * `given`: using a provided set of initial representatives provided in the `Z₀` parameter\n",
    " * `Z₀`: Provided (K x D) matrix of initial representatives (used only together with the `given` initStrategy) [default: `nothing`]\n",
    "\n",
    "# Returns:\n",
    "* A tuple of two items, the first one being a vector of size N of ids of the clusters associated to each point and the second one the (K x D) matrix of representatives\n",
    "\n",
    "# Notes:\n",
    "* Some returned clusters could be empty\n",
    "\n",
    "# Example:\n",
    "```julia\n",
    "julia> (clIdx,Z) = kmedoids([1 10.5;1.5 10.8; 1.8 8; 1.7 15; 3.2 40; 3.6 32; 3.3 38; 5.1 -2.3; 5.2 -2.4],3,dist = (x,y) -> norm(x-y)^2,initStrategy=\"grid\")\n",
    "```\n",
    "\"\"\"\n",
    "function kmedoids(X,K;dist=(x,y) -> norm(x-y)^2,initStrategy=\"shuffle\",Z₀=nothing)\n",
    "    (n,d) = size(X)\n",
    "    # Random choice of initial representative vectors\n",
    "    Z₀ = initRepresentatives(X,K,initStrategy=initStrategy,Z₀=Z₀)\n",
    "    Z = Z₀\n",
    "    cIdx_prev = zeros(Int64,n)\n",
    "\n",
    "    # Looping\n",
    "    while true\n",
    "        # Determining the constituency of each cluster\n",
    "        cIdx      = zeros(Int64,n)\n",
    "        for (i,x) in enumerate(eachrow(X))\n",
    "            cost = Inf\n",
    "            for (j,z) in enumerate(eachrow(Z))\n",
    "               if (dist(x,z) < cost)\n",
    "                   cost =  dist(x,z)\n",
    "                   cIdx[i] = j\n",
    "               end\n",
    "            end\n",
    "        end\n",
    "\n",
    "        # Determining the new representative by each cluster (within the points member)\n",
    "        #for (j,z) in enumerate(eachrow(Z))\n",
    "        for j in  1:K\n",
    "            Cⱼ = X[cIdx .== j,:] # Selecting the constituency by boolean selection\n",
    "            nⱼ = size(Cⱼ)[1]     # Size of the cluster\n",
    "            if nⱼ == 0 continue end # empty continuency. Let's not do anything. Stil in the next batch other representatives could move away and points could enter this cluster\n",
    "            bestCost = Inf\n",
    "            bestCIdx = 0\n",
    "            for cIdx in 1:nⱼ      # candidate index\n",
    "                 candidateCost = 0.0\n",
    "                 for tIdx in 1:nⱼ # target index\n",
    "                     candidateCost += dist(Cⱼ[cIdx,:],Cⱼ[tIdx,:])\n",
    "                 end\n",
    "                 if candidateCost < bestCost\n",
    "                     bestCost = candidateCost\n",
    "                     bestCIdx = cIdx\n",
    "                 end\n",
    "            end\n",
    "            Z[j,:] = reshape(Cⱼ[bestCIdx,:],1,d)\n",
    "        end\n",
    "\n",
    "        # Checking termination condition: clusters didn't move any more\n",
    "        if cIdx == cIdx_prev\n",
    "            return (cIdx,Z)\n",
    "        else\n",
    "            cIdx_prev = cIdx\n",
    "        end\n",
    "\n",
    "    end\n",
    "end"
   ]
  },
  {
   "cell_type": "code",
   "execution_count": 12,
   "metadata": {},
   "outputs": [
    {
     "data": {
      "text/plain": [
       "([2, 2, 2, 2, 3, 3, 3, 1, 1], [5.1 -2.3; 1.5 10.8; 3.3 38.0])"
      ]
     },
     "execution_count": 12,
     "metadata": {},
     "output_type": "execute_result"
    }
   ],
   "source": [
    "(clIdx,Z) = kmedoids([1 10.5;1.5 10.8; 1.8 8; 1.7 15; 3.2 40; 3.6 32; 3.3 38; 5.1 -2.3; 5.2 -2.4],3,dist = (x,y) -> norm(x-y)^2,initStrategy=\"grid\")"
   ]
  },
  {
   "cell_type": "code",
   "execution_count": 13,
   "metadata": {},
   "outputs": [
    {
     "data": {
      "text/plain": [
       "normalFixedSd"
      ]
     },
     "execution_count": 13,
     "metadata": {},
     "output_type": "execute_result"
    }
   ],
   "source": [
    "# The EM algorithm (Lecture/segment 16.5 of https://www.edx.org/course/machine-learning-with-python-from-linear-models-to)\n",
    "\n",
    "\"\"\" PDF of a multidimensional normal with no covariance and shared variance across dimensions\"\"\"\n",
    "normalFixedSd(x,μ,σ²) = (1/(2π*σ²)^(length(x)/2)) * exp(-1/(2σ²)*norm(x-μ)^2)"
   ]
  },
  {
   "cell_type": "code",
   "execution_count": 17,
   "metadata": {},
   "outputs": [
    {
     "data": {
      "text/plain": [
       "em"
      ]
     },
     "execution_count": 17,
     "metadata": {},
     "output_type": "execute_result"
    }
   ],
   "source": [
    "# The E-M Algorithm\n",
    "\"\"\"\n",
    "  em(X,K;p₀,μ₀,σ²₀,tol)\n",
    "\n",
    "Compute Expectation-Maximisation algorithm to identify K clusters of X data assuming a Gaussian Mixture probabilistic Model.\n",
    "\n",
    "# Parameters:\n",
    "* `X`  :      A (n x d) data to clusterise\n",
    "* `K`  :      Number of cluster wanted\n",
    "* `p₀` :      Initial probabilities of the categorical distribution (K x 1) [default: `nothing`]\n",
    "* `μ₀` :      Initial means (K x d) of the Gaussian [default: `nothing`]\n",
    "* `σ²₀`:      Initial variance of the gaussian (K x 1). We assume here that the gaussian has the same variance across all the dimensions [default: `nothing`]\n",
    "* `tol`:      Initial tolerance to stop the algorithm [default: 0.0001]\n",
    "* `msgStep` : Iterations between update messages. Use 0 for no updates [default: 10]\n",
    "\n",
    "# Returns:\n",
    "* A named touple of:\n",
    "  * `pⱼₓ`: Matrix of size (N x K) of the probabilities of each point i to belong to cluster j\n",
    "  * `p`  : Probabilities of the categorical distribution (K x 1)\n",
    "  * `μ`  : Means (K x d) of the Gaussian\n",
    "  * `σ²` : Variance of the gaussian (K x 1). We assume here that the gaussian has the same variance across all the dimensions\n",
    "  * `ϵ`  : Vector of the discrepancy (matrix norm) between pⱼₓ and the lagged pⱼₓ at each iteration\n",
    "\n",
    "# Example:\n",
    "```julia\n",
    "julia> clusters = em([1 10.5;1.5 10.8; 1.8 8; 1.7 15; 3.2 40; 3.6 32; 3.3 38; 5.1 -2.3; 5.2 -2.4],3,msgStep=1)\n",
    "```\n",
    "\"\"\"\n",
    "function em(X,K;p₀=nothing,μ₀=nothing,σ²₀=nothing,tol=0.0001,msgStep=10)\n",
    "    # debug:\n",
    "    #X = [1 10.5;1.5 10.8; 1.8 8; 1.7 15; 3.2 40; 3.6 32; 3.3 38; 5.1 -2.3; 5.2 -2.4]\n",
    "    #K = 3\n",
    "    #p₀=nothing; μ₀=nothing; σ²₀=nothing; tol=0.0001\n",
    "    (N,D) = size(X)\n",
    "\n",
    "    # Initialisation of the parameters if not provided\n",
    "    minX = minimum(X,dims=1)\n",
    "    maxX = maximum(X,dims=1)\n",
    "    varX = mean(var(X,dims=1))/K^2\n",
    "    pⱼ = isnothing(p₀) ? fill(1/K,K) : p₀\n",
    "    if !isnothing(μ₀)\n",
    "        μ = μ₀\n",
    "    else\n",
    "        μ = zeros(Float64,K,D)\n",
    "        for d in 1:D\n",
    "                μ[:,d] = collect(range(minX[d], stop=maxX[d], length=K))\n",
    "        end\n",
    "    end\n",
    "    σ² = isnothing(σ²₀) ? fill(varX,K) : σ²₀\n",
    "    pⱼₓ = zeros(Float64,N,K)\n",
    "\n",
    "    ϵ = Float64[]\n",
    "    while(true)\n",
    "        # E Step: assigning the posterior prob p(j|xi)\n",
    "        pⱼₓlagged = copy(pⱼₓ)\n",
    "        for n in 1:N\n",
    "            px = sum([pⱼ[j]*normalFixedSd(X[n,:],μ[j,:],σ²[j]) for j in 1:K])\n",
    "            for k in 1:K\n",
    "                pⱼₓ[n,k] = pⱼ[k]*normalFixedSd(X[n,:],μ[k,:],σ²[k])/px\n",
    "            end\n",
    "        end\n",
    "        # M step: find parameters that maximise the likelihood\n",
    "        nⱼ = sum(pⱼₓ,dims=1)'\n",
    "        n = sum(nⱼ)\n",
    "        pⱼ = nⱼ ./ n\n",
    "        μ = (pⱼₓ' * X) ./ nⱼ\n",
    "        σ² = [sum([pⱼₓ[n,j] * norm(X[n,:]-μ[j,:])^2 for n in 1:N]) for j in 1:K ] ./ (nⱼ .* D)\n",
    "\n",
    "        push!(ϵ,norm(pⱼₓlagged - pⱼₓ))\n",
    "\n",
    "        if msgStep != 0 && (length(ϵ) % msgStep == 0 || length(ϵ) == 1)\n",
    "           println(\"Iter. $(length(ϵ))\\t: $(ϵ[end])\")\n",
    "        end\n",
    "        if (ϵ[end] < tol)\n",
    "            return (pⱼₓ=pⱼₓ, pⱼ=pⱼ,μ=μ,σ²=σ²,ϵ=ϵ)\n",
    "        end\n",
    "    end\n",
    "end"
   ]
  },
  {
   "cell_type": "code",
   "execution_count": 19,
   "metadata": {},
   "outputs": [
    {
     "name": "stdout",
     "output_type": "stream",
     "text": [
      "Iter. 1\t: 2.887117418966972\n",
      "Iter. 2\t: 0.7123655504946171\n",
      "Iter. 3\t: 0.11165110966805576\n",
      "Iter. 4\t: 3.794945858137016e-10\n"
     ]
    },
    {
     "data": {
      "text/plain": [
       "9×3 Array{Float64,2}:\n",
       " 0.0  1.0          6.00753e-27\n",
       " 0.0  1.0          2.5648e-26 \n",
       " 0.0  1.0          2.31584e-31\n",
       " 0.0  1.0          9.14102e-18\n",
       " 0.0  8.60227e-57  1.0        \n",
       " 0.0  1.7555e-29   1.0        \n",
       " 0.0  1.33625e-49  1.0        \n",
       " 1.0  4.29262e-16  1.61741e-60\n",
       " 1.0  2.52008e-16  7.99659e-61"
      ]
     },
     "execution_count": 19,
     "metadata": {},
     "output_type": "execute_result"
    }
   ],
   "source": [
    "clusters = em([1 10.5;1.5 10.8; 1.8 8; 1.7 15; 3.2 40; 3.6 32; 3.3 38; 5.1 -2.3; 5.2 -2.4],3,msgStep=1)\n",
    "clusters.pⱼₓ"
   ]
  },
  {
   "cell_type": "code",
   "execution_count": null,
   "metadata": {},
   "outputs": [],
   "source": []
  }
 ],
 "metadata": {
  "kernelspec": {
   "display_name": "Julia 1.3.0",
   "language": "julia",
   "name": "julia-1.3"
  },
  "language_info": {
   "file_extension": ".jl",
   "mimetype": "application/julia",
   "name": "julia",
   "version": "1.3.0"
  }
 },
 "nbformat": 4,
 "nbformat_minor": 4
}
