{
 "cells": [
  {
   "cell_type": "markdown",
   "metadata": {},
   "source": [
    "## Clustering and collaborative filtering (via clustering) algorithms\n",
    "\n",
    "- [Importable source code (most up-to-date version)](https://github.com/sylvaticus/Bmlt.jl/blob/master/src/clusters.jl) - [Julia Package](https://github.com/sylvaticus/Bmlt.jl)\n",
    "- [Demonstrative static notebook](https://github.com/sylvaticus/Bmlt.jl/blob/master/notebooks/Clustering.ipynb)\n",
    "- [Demonstrative live notebook](https://mybinder.org/v2/gh/sylvaticus/Bmlt.jl/master?filepath=notebooks%2FClustering.ipynb) (temporary personal online computational environment on myBinder) - it can takes minutes to start with!\n",
    "- Theory based on [MITx 6.86x - Machine Learning with Python: from Linear Models to Deep Learning](https://github.com/sylvaticus/MITx_6.86x) ([Unit 4](https://github.com/sylvaticus/MITx_6.86x/blob/master/Unit%2004%20-%20Unsupervised%20Learning/Unit%2004%20-%20Unsupervised%20Learning.md))\n",
    "- New to Julia? [A concise Julia tutorial](https://github.com/sylvaticus/juliatutorial) - [Julia Quick Syntax Reference book](https://julia-book.com)"
   ]
  },
  {
   "cell_type": "code",
   "execution_count": 3,
   "metadata": {},
   "outputs": [
    {
     "name": "stderr",
     "output_type": "stream",
     "text": [
      "┌ Warning: Pkg.installed() is deprecated\n",
      "└ @ Pkg /buildworker/worker/package_linux64/build/usr/share/julia/stdlib/v1.4/Pkg/src/Pkg.jl:531\n"
     ]
    }
   ],
   "source": [
    "using Pkg\n",
    "if ! haskey(Pkg.installed(), \"Distributions\")\n",
    "    Pkg.add(\"Distributions\")\n",
    "end\n",
    "using LinearAlgebra\n",
    "using Random\n",
    "using Distributions\n",
    "using Statistics\n",
    "using DelimitedFiles\n",
    "using Bmlt.Clustering"
   ]
  },
  {
   "cell_type": "code",
   "execution_count": 4,
   "metadata": {},
   "outputs": [
    {
     "data": {
      "text/plain": [
       "9×2 Array{Float64,2}:\n",
       " 1.0  10.5\n",
       " 1.5  10.8\n",
       " 1.8   8.0\n",
       " 1.7  15.0\n",
       " 3.2  40.0\n",
       " 3.6  32.0\n",
       " 3.3  38.0\n",
       " 5.1  -2.3\n",
       " 5.2  -2.4"
      ]
     },
     "execution_count": 4,
     "metadata": {},
     "output_type": "execute_result"
    }
   ],
   "source": [
    "K = 3\n",
    "X = [1 10.5;1.5 10.8; 1.8 8; 1.7 15; 3.2 40; 3.6 32; 3.3 38; 5.1 -2.3; 5.2 -2.4]"
   ]
  },
  {
   "cell_type": "code",
   "execution_count": 8,
   "metadata": {},
   "outputs": [
    {
     "data": {
      "text/plain": [
       "2×2 Array{Float64,2}:\n",
       " 1.0   8.0\n",
       " 3.6  40.0"
      ]
     },
     "execution_count": 8,
     "metadata": {},
     "output_type": "execute_result"
    }
   ],
   "source": [
    "Z₀ = initRepresentatives([1 10.5;1.5 10.8; 1.8 8; 1.7 15; 3.2 40; 3.6 32; 3.6 38],2,initStrategy=\"grid\")"
   ]
  },
  {
   "cell_type": "code",
   "execution_count": 9,
   "metadata": {},
   "outputs": [
    {
     "data": {
      "text/plain": [
       "([2, 2, 2, 2, 3, 3, 3, 1, 1], [5.15 -2.3499999999999996; 1.5 11.075; 3.366666666666667 36.666666666666664])"
      ]
     },
     "execution_count": 9,
     "metadata": {},
     "output_type": "execute_result"
    }
   ],
   "source": [
    "(clIdx,Z) = kmeans([1 10.5;1.5 10.8; 1.8 8; 1.7 15; 3.2 40; 3.6 32; 3.3 38; 5.1 -2.3; 5.2 -2.4],3)"
   ]
  },
  {
   "cell_type": "code",
   "execution_count": 10,
   "metadata": {},
   "outputs": [
    {
     "data": {
      "text/plain": [
       "([2, 2, 2, 2, 3, 3, 3, 1, 1], [5.1 -2.3; 1.5 10.8; 3.3 38.0])"
      ]
     },
     "execution_count": 10,
     "metadata": {},
     "output_type": "execute_result"
    }
   ],
   "source": [
    "(clIdx,Z) = kmedoids([1 10.5;1.5 10.8; 1.8 8; 1.7 15; 3.2 40; 3.6 32; 3.3 38; 5.1 -2.3; 5.2 -2.4],3,dist = (x,y) -> norm(x-y)^2,initStrategy=\"grid\")"
   ]
  },
  {
   "cell_type": "code",
   "execution_count": 12,
   "metadata": {},
   "outputs": [
    {
     "name": "stdout",
     "output_type": "stream",
     "text": [
      "Iter. 1:\tVar. of the post  2.7798403823788407 \t  Log-likelihood -62.16435618142972\n",
      "Iter. 2:\tVar. of the post  0.5606080950482362 \t  Log-likelihood -51.82785452710985\n",
      "Iter. 3:\tVar. of the post  0.3047407377931759 \t  Log-likelihood -47.21642564372429\n",
      "Iter. 4:\tVar. of the post  0.003227835533034755 \t  Log-likelihood -40.26621217189606\n",
      "Iter. 5:\tVar. of the post  5.609004006879284e-16 \t  Log-likelihood -40.26558370139746\n",
      "Iter. 6:\tVar. of the post  1.7801324102294862e-27 \t  Log-likelihood -40.26558370139746\n"
     ]
    },
    {
     "data": {
      "text/plain": [
       "9×3 Array{Float64,2}:\n",
       " 2.90709e-158  1.0          6.00753e-27\n",
       " 1.10092e-161  1.0          2.5648e-26\n",
       " 4.57484e-102  1.0          2.31584e-31\n",
       " 1.12191e-270  1.0          9.14102e-18\n",
       " 0.0           8.60227e-57  1.0\n",
       " 0.0           1.7555e-29   1.0\n",
       " 0.0           1.33625e-49  1.0\n",
       " 1.0           1.59504e-14  6.0099e-59\n",
       " 1.0           9.36404e-15  2.97135e-59"
      ]
     },
     "execution_count": 12,
     "metadata": {},
     "output_type": "execute_result"
    }
   ],
   "source": [
    "clusters = emGMM([1 10.5;1.5 10.8; 1.8 8; 1.7 15; 3.2 40; 3.6 32; 3.3 38; 5.1 -2.3; 5.2 -2.4],3,msgStep=1)\n",
    "clusters.pⱼₓ"
   ]
  },
  {
   "cell_type": "code",
   "execution_count": 13,
   "metadata": {},
   "outputs": [
    {
     "data": {
      "text/plain": [
       "5-element Array{Int64,1}:\n",
       " 0\n",
       " 1\n",
       " 2\n",
       " 3\n",
       " 4"
      ]
     },
     "execution_count": 13,
     "metadata": {},
     "output_type": "execute_result"
    }
   ],
   "source": [
    "cd(@__DIR__)\n",
    "K = [1,12]\n",
    "seeds = [0,1,2,3,4]"
   ]
  },
  {
   "cell_type": "code",
   "execution_count": 14,
   "metadata": {},
   "outputs": [
    {
     "name": "stdout",
     "output_type": "stream",
     "text": [
      "[INFO] Working with (k,seed) = (1, 0)\n",
      "[INFO] Working with (k,seed) = (1, 1)\n",
      "[INFO] Working with (k,seed) = (1, 2)\n",
      "[INFO] Working with (k,seed) = (1, 3)\n",
      "[INFO] Working with (k,seed) = (1, 4)\n",
      "Upper logLikelihood with 1 clusters: -1307.2234317600933 (seed 0)\n",
      "[INFO] Working with (k,seed) = (12, 0)\n",
      "[INFO] Working with (k,seed) = (12, 1)\n",
      "[INFO] Working with (k,seed) = (12, 2)\n",
      "[INFO] Working with (k,seed) = (12, 3)\n",
      "[INFO] Working with (k,seed) = (12, 4)\n",
      "Upper logLikelihood with 12 clusters: -1118.6190434326675 (seed 2)\n"
     ]
    }
   ],
   "source": [
    "# Test data\n",
    "baseDir = \"assets/netflix/toy_data/\"\n",
    "X = readdlm(joinpath(baseDir,\"toy_data.txt\"))\n",
    "for k in K\n",
    "    ulL = -Inf\n",
    "    bestSeed = -1\n",
    "    bestOut = nothing\n",
    "    for s in seeds\n",
    "        println(\"[INFO] Working with (k,seed) = ($(k), $(s))\")\n",
    "        μ₀ = readdlm(joinpath(baseDir,\"init_mu_$(k)_$(s).csv\"), ' ')\n",
    "        σ²₀ = dropdims(readdlm(joinpath(baseDir,\"init_var_$(k)_$(s).csv\"), ' '),dims=2)\n",
    "        p₀ = dropdims(readdlm(joinpath(baseDir,\"init_p_$(k)_$(s).csv\"), ' '),dims=2)\n",
    "        emOut = emGMM(X,k;p₀=p₀,μ₀=μ₀,σ²₀=σ²₀,msgStep=0,missingValue=0)\n",
    "        lL  = emOut.lL\n",
    "        if lL > ulL\n",
    "            ulL = lL\n",
    "            bestSeed = s\n",
    "            bestOut = emOut\n",
    "        end\n",
    "    end\n",
    "    println(\"Upper logLikelihood with $(k) clusters: $(ulL) (seed $(bestSeed))\")\n",
    "end"
   ]
  },
  {
   "cell_type": "code",
   "execution_count": 18,
   "metadata": {},
   "outputs": [
    {
     "data": {
      "text/plain": [
       "1200×1200 Array{Int64,2}:\n",
       " 2  4  5  0  0  3  5  0  4  2  0  4  3  …  5  4  4  0  0  4  0  5  4  4  4  4\n",
       " 3  5  5  3  4  3  5  4  2  4  4  4  3     4  4  3  4  2  4  4  3  3  5  3  4\n",
       " 2  0  4  3  3  1  3  3  3  3  0  3  3     2  3  3  4  0  0  0  3  2  4  4  3\n",
       " 4  3  4  4  5  2  4  5  4  4  3  5  4     4  4  3  4  5  4  5  4  4  4  4  4\n",
       " 2  2  5  4  0  1  5  0  5  3  3  1  0     2  2  1  4  0  3  2  5  0  4  0  0\n",
       " 3  0  0  4  4  4  4  4  5  0  1  4  4  …  2  3  2  3  5  4  4  5  4  2  5  4\n",
       " 1  4  5  4  5  5  4  4  4  5  4  4  3     5  5  5  4  3  4  4  5  5  4  5  4\n",
       " 2  0  5  4  5  1  5  2  3  3  4  4  4     5  3  3  3  2  3  4  4  2  5  3  3\n",
       " 3  5  0  5  4  0  4  4  4  4  3  0  5     3  0  0  3  5  4  4  4  0  2  5  5\n",
       " 0  0  0  0  3  5  0  0  4  0  0  0  0     4  0  0  0  0  0  0  0  0  0  5  5\n",
       " 3  0  5  3  3  0  0  4  0  3  0  5  0  …  2  0  3  3  0  0  4  0  4  0  3  0\n",
       " 2  4  5  0  4  0  4  2  4  2  0  3  0     5  3  3  0  0  0  4  4  4  4  3  0\n",
       " 0  4  5  0  3  3  5  0  4  0  0  4  2     5  0  3  0  3  3  0  3  4  3  4  3\n",
       " ⋮              ⋮              ⋮        ⋱        ⋮              ⋮           \n",
       " 0  0  5  3  5  3  4  2  0  0  3  3  4     4  3  3  0  4  4  0  4  4  0  5  4\n",
       " 3  2  5  0  5  3  5  2  4  0  0  0  0     5  0  0  3  0  0  0  0  0  5  0  0\n",
       " 0  4  5  4  3  3  4  5  4  3  4  5  5  …  5  4  5  3  3  4  4  5  5  3  5  4\n",
       " 0  2  5  3  4  0  4  3  3  0  4  0  3     4  3  2  0  0  2  0  4  3  4  4  0\n",
       " 3  4  5  3  3  3  2  4  2  3  4  3  2     4  3  2  3  0  2  1  2  2  3  4  3\n",
       " 0  0  4  4  0  0  4  3  4  3  5  4  2     5  3  3  3  4  3  4  4  4  0  4  4\n",
       " 3  2  5  4  5  1  3  4  2  2  3  4  3     4  4  0  4  4  3  1  4  3  3  3  2\n",
       " 2  4  5  3  5  3  5  4  4  5  0  3  4  …  5  4  5  2  5  4  4  5  5  5  5  3\n",
       " 0  4  5  0  4  0  3  0  4  2  2  3  3     4  3  2  0  3  1  3  5  3  3  3  3\n",
       " 2  3  5  4  3  1  3  2  3  3  0  3  3     5  2  3  2  0  2  3  0  2  3  4  2\n",
       " 3  4  0  4  4  4  5  3  4  3  4  4  3     2  4  3  4  5  4  2  5  4  4  5  4\n",
       " 3  0  5  4  4  0  4  3  4  4  0  2  2     1  2  2  3  0  3  2  0  3  5  4  0"
      ]
     },
     "execution_count": 18,
     "metadata": {},
     "output_type": "execute_result"
    }
   ],
   "source": [
    "# Full NetFlix dataset.. may take time !!!!\n",
    "baseDir = \"assets/netflix/full/\"\n",
    "X = convert(Array{Int64,2},readdlm(joinpath(baseDir,\"netflix_incomplete.txt\")))"
   ]
  },
  {
   "cell_type": "code",
   "execution_count": 15,
   "metadata": {},
   "outputs": [
    {
     "name": "stdout",
     "output_type": "stream",
     "text": [
      "[INFO] Working with (k,seed) = (1, 0)\n",
      "[INFO] Working with (k,seed) = (1, 1)\n",
      "[INFO] Working with (k,seed) = (1, 2)\n",
      "[INFO] Working with (k,seed) = (1, 3)\n",
      "[INFO] Working with (k,seed) = (1, 4)\n",
      "Upper logLikelihood with 1 clusters: -1.5210609539852452e6 (seed 0)\n",
      "[INFO] Working with (k,seed) = (12, 0)\n",
      "[INFO] Working with (k,seed) = (12, 1)\n",
      "[INFO] Working with (k,seed) = (12, 2)\n",
      "[INFO] Working with (k,seed) = (12, 3)\n",
      "[INFO] Working with (k,seed) = (12, 4)\n",
      "Upper logLikelihood with 12 clusters: -1.3902809991574623e6 (seed 1)\n"
     ]
    }
   ],
   "source": [
    "for k in K\n",
    "    ulL = -Inf\n",
    "    bestSeed = -1\n",
    "    bestOut = nothing\n",
    "    for s in seeds\n",
    "        println(\"[INFO] Working with (k,seed) = ($(k), $(s))\")\n",
    "        μ₀  = readdlm(joinpath(baseDir,\"init_mu_$(k)_$(s).csv\"), ' ')\n",
    "        σ²₀ = dropdims(readdlm(joinpath(baseDir,\"init_var_$(k)_$(s).csv\"), ' '),dims=2)\n",
    "        p₀  = dropdims(readdlm(joinpath(baseDir,\"init_p_$(k)_$(s).csv\"), ' '),dims=2)\n",
    "        emOut = emGMM(X,k;p₀=p₀,μ₀=μ₀,σ²₀=σ²₀,msgStep=0,missingValue=0)\n",
    "        lL  = emOut.lL\n",
    "        if lL > ulL\n",
    "            ulL = lL\n",
    "            bestSeed = s\n",
    "            bestOut = emOut\n",
    "        end\n",
    "    end\n",
    "    println(\"Upper logLikelihood with $(k) clusters: $(ulL) (seed $(bestSeed))\")\n",
    "end"
   ]
  },
  {
   "cell_type": "code",
   "execution_count": 16,
   "metadata": {},
   "outputs": [
    {
     "data": {
      "text/plain": [
       "9×2 Array{Float64,2}:\n",
       " 1.0  10.5\n",
       " 1.5   0.0\n",
       " 1.8   8.0\n",
       " 1.7  15.0\n",
       " 3.2  40.0\n",
       " 0.0   0.0\n",
       " 3.3  38.0\n",
       " 0.0  -2.3\n",
       " 5.2  -2.4"
      ]
     },
     "execution_count": 16,
     "metadata": {},
     "output_type": "execute_result"
    }
   ],
   "source": [
    "X = [1 10.5;1.5 0; 1.8 8; 1.7 15; 3.2 40; 0 0; 3.3 38; 0 -2.3; 5.2 -2.4]"
   ]
  },
  {
   "cell_type": "code",
   "execution_count": 17,
   "metadata": {},
   "outputs": [
    {
     "name": "stdout",
     "output_type": "stream",
     "text": [
      "Iter. 1:\tVar. of the post  2.61937747932065 \t  Log-likelihood -47.59140596017498\n",
      "Iter. 2:\tVar. of the post  0.5226030386857065 \t  Log-likelihood -34.55184066668723\n",
      "Iter. 3:\tVar. of the post  0.3500981768393402 \t  Log-likelihood -32.92185047653772\n",
      "Iter. 4:\tVar. of the post  0.32940171779360017 \t  Log-likelihood -30.01085600946215\n",
      "Iter. 5:\tVar. of the post  0.05092179105118827 \t  Log-likelihood -27.686896657600293\n",
      "Iter. 6:\tVar. of the post  0.01144416282455234 \t  Log-likelihood -27.681990100476558\n",
      "Iter. 7:\tVar. of the post  0.004605091358874689 \t  Log-likelihood -27.681832719530703\n",
      "Iter. 8:\tVar. of the post  0.0022110716618263934 \t  Log-likelihood -27.68179603140188\n",
      "Iter. 9:\tVar. of the post  0.0010765120575048945 \t  Log-likelihood -27.68178722759999\n"
     ]
    },
    {
     "data": {
      "text/plain": [
       "9×2 Array{Float64,2}:\n",
       " 1.0     10.5\n",
       " 1.5     14.1779\n",
       " 1.8      8.0\n",
       " 1.7     15.0\n",
       " 3.2     40.0\n",
       " 2.8627  15.1255\n",
       " 3.3     38.0\n",
       " 5.2     -2.3\n",
       " 5.2     -2.4"
      ]
     },
     "execution_count": 17,
     "metadata": {},
     "output_type": "execute_result"
    }
   ],
   "source": [
    "cFOut = collFilteringGMM(X,3,msgStep=1,missingValue=0)\n",
    "cFOut.X̂"
   ]
  },
  {
   "cell_type": "code",
   "execution_count": null,
   "metadata": {},
   "outputs": [],
   "source": []
  }
 ],
 "metadata": {
  "@webio": {
   "lastCommId": null,
   "lastKernelId": null
  },
  "kernelspec": {
   "display_name": "Julia 1.4.1",
   "language": "julia",
   "name": "julia-1.4"
  },
  "language_info": {
   "file_extension": ".jl",
   "mimetype": "application/julia",
   "name": "julia",
   "version": "1.4.1"
  }
 },
 "nbformat": 4,
 "nbformat_minor": 4
}
