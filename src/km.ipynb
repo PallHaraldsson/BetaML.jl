{
 "cells": [
  {
   "cell_type": "code",
   "execution_count": 1,
   "metadata": {},
   "outputs": [],
   "source": [
    "using LinearAlgebra\n",
    "using Random\n",
    "using Distributions"
   ]
  },
  {
   "cell_type": "code",
   "execution_count": 2,
   "metadata": {},
   "outputs": [
    {
     "data": {
      "text/plain": [
       "sterling (generic function with 2 methods)"
      ]
     },
     "execution_count": 2,
     "metadata": {},
     "output_type": "execute_result"
    }
   ],
   "source": [
    "\"\"\" Sterling number: number of partitions of a set of n elements in k sets \"\"\"\n",
    "sterling(n::BigInt,k::BigInt) = (1/factorial(k)) * sum((-1)^i * binomial(k,i)* (k-i)^n for i in 0:k)\n",
    "sterling(n::Int64,k::Int64) = sterling(BigInt(n),BigInt(k))\n"
   ]
  },
  {
   "cell_type": "code",
   "execution_count": 3,
   "metadata": {},
   "outputs": [
    {
     "data": {
      "text/plain": [
       "kmean"
      ]
     },
     "execution_count": 3,
     "metadata": {},
     "output_type": "execute_result"
    }
   ],
   "source": [
    "# Basic K-Means Algorithm (Lecture/segment 13.7 of https://www.edx.org/course/machine-learning-with-python-from-linear-models-to)\n",
    "\n",
    "\"\"\"\n",
    "  kmean(X,K)\n",
    "\n",
    "Compute K-Mean algorithm to identify K clusters of X using Euclidean distance\n",
    "\n",
    "# Parameters:\n",
    "* `X`: a (n x d) data to clusterise\n",
    "* `K`: Number of cluster wonted\n",
    "\n",
    "# Returns:\n",
    "* A vector of size n of ids of the clusters associated to each point\n",
    "\n",
    "# Notes:\n",
    "* Some returned clusters could be empty\n",
    "\n",
    "# Example:\n",
    "```julia\n",
    "julia> clIdx = kmean([1 10.5;1.5 10.8; 1.8 8; 1.7 15; 3.2 40; 3.6 32; 3.6 38],2)\n",
    "```\n",
    "\"\"\"\n",
    "function kmean(X,K)\n",
    "    (n,d) = size(X)\n",
    "    # Random choice of initial representative vectors (any point, not just in X!)\n",
    "    minX = minimum(X,dims=1)\n",
    "    maxX = maximum(X,dims=1)\n",
    "    Z₀ = zeros(K,d)\n",
    "    for i in 1:K\n",
    "        for j in 1:d\n",
    "            Z₀[i,j] = rand(Uniform(minX[j],maxX[j]))\n",
    "        end\n",
    "    end\n",
    "    Z = Z₀\n",
    "    cIdx_prev = zeros(Int64,n)\n",
    "\n",
    "    # Looping\n",
    "    while true\n",
    "        # Determining the constituency of each cluster\n",
    "        cIdx      = zeros(Int64,n)\n",
    "        for (i,x) in enumerate(eachrow(X))\n",
    "            cost = Inf\n",
    "            for (j,z) in enumerate(eachrow(Z))\n",
    "               if (norm(x-z)^2  < cost)\n",
    "                   cost    =  norm(x-z)^2\n",
    "                   cIdx[i] = j\n",
    "               end\n",
    "            end\n",
    "        end\n",
    "\n",
    "        # Checking termination condition: clusters didn't move any more\n",
    "        if cIdx == cIdx_prev\n",
    "            return cIdx\n",
    "        else\n",
    "            cIdx_prev = cIdx\n",
    "        end\n",
    "\n",
    "        # Determining the new representative by each cluster\n",
    "        for (j,z) in enumerate(eachrow(Z))\n",
    "            Cⱼ = X[cIdx .== j,:] # Selecting the constituency by boolean selection\n",
    "            z = sum(Cⱼ,dims=1) ./ size(Cⱼ)[1]\n",
    "        end\n",
    "    end\n",
    "end"
   ]
  },
  {
   "cell_type": "code",
   "execution_count": 5,
   "metadata": {},
   "outputs": [
    {
     "data": {
      "text/plain": [
       "7-element Array{Int64,1}:\n",
       " 2\n",
       " 2\n",
       " 2\n",
       " 2\n",
       " 1\n",
       " 1\n",
       " 1"
      ]
     },
     "execution_count": 5,
     "metadata": {},
     "output_type": "execute_result"
    }
   ],
   "source": [
    "clIdx = kmean([1 10.5;1.5 10.8; 1.8 8; 1.7 15; 3.2 40; 3.6 32; 3.6 38],2)"
   ]
  },
  {
   "cell_type": "code",
   "execution_count": 6,
   "metadata": {},
   "outputs": [
    {
     "data": {
      "text/plain": [
       "cos_distance"
      ]
     },
     "execution_count": 6,
     "metadata": {},
     "output_type": "execute_result"
    }
   ],
   "source": [
    "# Basic K-Medoids Algorithm (Lecture/segment 14.3 of https://www.edx.org/course/machine-learning-with-python-from-linear-models-to)\n",
    "\n",
    "\n",
    "\"\"\"Square Euclidean distance\"\"\"\n",
    "square_euclidean(x,y) = norm(x-y)^2\n",
    "\n",
    "\"\"\"Cosine distance\"\"\"\n",
    "cos_distance(x,y) = dot(x,y)/(norm(x)*norm(y))"
   ]
  },
  {
   "cell_type": "code",
   "execution_count": 11,
   "metadata": {},
   "outputs": [
    {
     "data": {
      "text/plain": [
       "kmedoids"
      ]
     },
     "execution_count": 11,
     "metadata": {},
     "output_type": "execute_result"
    }
   ],
   "source": [
    "\"\"\"\n",
    "  kmedoids(X,K;dist)\n",
    "\n",
    "Compute K-Medoids algorithm to identify K clusters of X using distance definition `dist`\n",
    "\n",
    "# Parameters:\n",
    "* `X`: a (n x d) data to clusterise\n",
    "* `K`: Number of cluster wonted\n",
    "* `dist`: Function to employ as distance (must accept two vectors). Default to squared Euclidean.\n",
    "\n",
    "# Returns:\n",
    "* A vector of size n of ids of the clusters associated to each point\n",
    "\n",
    "# Notes:\n",
    "* Some returned clusters could be empty\n",
    "\n",
    "# Example:\n",
    "```julia\n",
    "julia> clIdx = kmedoids([1 10.5;1.5 10.8; 1.8 8; 1.7 15; 3.2 40; 3.6 32; 3.6 38],2,dist = (x,y) -> norm(x-y)^2)\n",
    "```\n",
    "\"\"\"\n",
    "function kmedoids(X,K;dist=(x,y) -> norm(x-y)^2)\n",
    "    (n,d) = size(X)\n",
    "    # Random choice of initial representative vectors\n",
    "    zIdx = shuffle(1:size(X)[1])[1:K]\n",
    "    Z₀ = X[zIdx, :]\n",
    "    Z = Z₀\n",
    "    cIdx_prev = zeros(Int64,n)\n",
    "\n",
    "    # Looping\n",
    "    while true\n",
    "        # Determining the constituency of each cluster\n",
    "        cIdx      = zeros(Int64,n)\n",
    "        for (i,x) in enumerate(eachrow(X))\n",
    "            cost = Inf\n",
    "            for (j,z) in enumerate(eachrow(Z))\n",
    "               if (dist(x,z) < cost)\n",
    "                   cost =  dist(x,z)\n",
    "                   cIdx[i] = j\n",
    "               end\n",
    "            end\n",
    "        end\n",
    "\n",
    "        # Checking termination condition: clusters didn't move any more\n",
    "        if cIdx == cIdx_prev\n",
    "            return cIdx\n",
    "        else\n",
    "            cIdx_prev = cIdx\n",
    "        end\n",
    "\n",
    "        # Determining the new representative by each cluster (within the points member)\n",
    "        for (j,z) in enumerate(eachrow(Z))\n",
    "            Cⱼ = X[cIdx .== j,:] # Selecting the constituency by boolean selection\n",
    "            nⱼ = size(Cⱼ)[1]     # Size of the cluster\n",
    "            if nⱼ == 0 continue end # empty continuency. Let's not do anything. Stil in the next batch other representatives could move away and points could enter this cluster\n",
    "            bestCost = Inf\n",
    "            bestCIdx = 0\n",
    "            for cIdx in 1:nⱼ      # candidate index\n",
    "                 candidateCost = 0.0\n",
    "                 for tIdx in 1:nⱼ # target index\n",
    "                     candidateCost += dist(Cⱼ[cIdx,:],Cⱼ[tIdx,:])\n",
    "                 end\n",
    "                 if candidateCost < bestCost\n",
    "                     bestCost = candidateCost\n",
    "                     bestCIdx = cIdx\n",
    "                 end\n",
    "            end\n",
    "            z = reshape(Cⱼ[bestCIdx,:],1,d)\n",
    "        end\n",
    "    end\n",
    "end"
   ]
  },
  {
   "cell_type": "code",
   "execution_count": 12,
   "metadata": {},
   "outputs": [
    {
     "data": {
      "text/plain": [
       "7-element Array{Int64,1}:\n",
       " 1\n",
       " 1\n",
       " 1\n",
       " 1\n",
       " 2\n",
       " 2\n",
       " 2"
      ]
     },
     "execution_count": 12,
     "metadata": {},
     "output_type": "execute_result"
    }
   ],
   "source": [
    "clIdx = kmedoids([1 10.5;1.5 10.8; 1.8 8; 1.7 15; 3.2 40; 3.6 32; 3.6 38],2,dist=square_euclidean)"
   ]
  },
  {
   "cell_type": "code",
   "execution_count": null,
   "metadata": {},
   "outputs": [],
   "source": []
  }
 ],
 "metadata": {
  "kernelspec": {
   "display_name": "Julia 1.3.0",
   "language": "julia",
   "name": "julia-1.3"
  },
  "language_info": {
   "file_extension": ".jl",
   "mimetype": "application/julia",
   "name": "julia",
   "version": "1.3.0"
  }
 },
 "nbformat": 4,
 "nbformat_minor": 4
}
